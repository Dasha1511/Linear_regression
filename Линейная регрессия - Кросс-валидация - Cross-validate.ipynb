{
 "cells": [
  {
   "cell_type": "code",
   "execution_count": 4,
   "id": "55bbf110",
   "metadata": {},
   "outputs": [],
   "source": [
    "import numpy as np\n",
    "import pandas as pd\n",
    "import matplotlib.pyplot as plt\n",
    "import seaborn as sns\n",
    "\n",
    "from sklearn.preprocessing import PolynomialFeatures\n",
    "from sklearn.preprocessing import StandardScaler\n",
    "\n",
    "from sklearn.metrics import mean_absolute_error, mean_squared_error\n",
    "\n",
    "from sklearn.model_selection import train_test_split\n",
    "from sklearn.model_selection import cross_val_score\n",
    "from sklearn.model_selection import cross_validate\n",
    "\n",
    "from sklearn.linear_model import LinearRegression\n",
    "from sklearn.linear_model import Ridge"
   ]
  },
  {
   "cell_type": "code",
   "execution_count": 5,
   "id": "abb66e88",
   "metadata": {},
   "outputs": [],
   "source": [
    "df = pd.read_csv(\"C:\\\\Users\\\\DaMol\\\\OneDrive\\\\Рабочий стол\\\\Домашние задания\\\\UNZIP_ME_FOR_NOTEBOOKS_ML_RUS_V6\\\\DATA\\\\Advertising.csv\")\n",
    "## Создаём X и y\n",
    "X = df.drop('sales',axis=1)\n",
    "y = df['sales']\n",
    "\n",
    "# Делаем разбиение на TRAIN и TEST\n",
    "from sklearn.model_selection import train_test_split\n",
    "X_train, X_test, y_train, y_test = train_test_split(X, y, test_size=0.3, random_state=101)\n",
    "\n",
    "# Масштабируем данные (SCALE)\n",
    "from sklearn.preprocessing import StandardScaler\n",
    "scaler = StandardScaler()\n",
    "scaler.fit(X_train)\n",
    "X_train = scaler.transform(X_train)\n",
    "X_test = scaler.transform(X_test)"
   ]
  },
  {
   "cell_type": "code",
   "execution_count": 6,
   "id": "28d997ed",
   "metadata": {},
   "outputs": [],
   "source": [
    "model = Ridge(alpha=100)"
   ]
  },
  {
   "cell_type": "code",
   "execution_count": 7,
   "id": "d0f2c268",
   "metadata": {},
   "outputs": [],
   "source": [
    "scores = cross_validate(model, X_train, y_train, scoring=['neg_mean_squared_error', 'neg_mean_absolute_error'], cv=10)"
   ]
  },
  {
   "cell_type": "code",
   "execution_count": 8,
   "id": "a91a4a6b",
   "metadata": {},
   "outputs": [
    {
     "data": {
      "text/plain": [
       "{'fit_time': array([0.00649738, 0.00199294, 0.00143409, 0.        , 0.00099635,\n",
       "        0.00199747, 0.0009973 , 0.00101495, 0.00218606, 0.0009973 ]),\n",
       " 'score_time': array([0.00099444, 0.        , 0.00100255, 0.00225639, 0.00134444,\n",
       "        0.        , 0.        , 0.00099754, 0.0019927 , 0.00130153]),\n",
       " 'test_neg_mean_squared_error': array([ -6.06067062, -10.62703078,  -3.99342608,  -5.00949402,\n",
       "         -9.14179955, -13.08625636,  -3.83940454,  -9.05878567,\n",
       "         -9.05545685,  -5.77888211]),\n",
       " 'test_neg_mean_absolute_error': array([-1.8102116 , -2.54195751, -1.46959386, -1.86276886, -2.52069737,\n",
       "        -2.45999491, -1.45197069, -2.37739501, -2.44334397, -1.89979708])}"
      ]
     },
     "execution_count": 8,
     "metadata": {},
     "output_type": "execute_result"
    }
   ],
   "source": [
    "scores"
   ]
  },
  {
   "cell_type": "code",
   "execution_count": 9,
   "id": "e2195447",
   "metadata": {},
   "outputs": [],
   "source": [
    "scores = pd.DataFrame(scores)"
   ]
  },
  {
   "cell_type": "code",
   "execution_count": 10,
   "id": "658451f2",
   "metadata": {},
   "outputs": [
    {
     "data": {
      "text/html": [
       "<div>\n",
       "<style scoped>\n",
       "    .dataframe tbody tr th:only-of-type {\n",
       "        vertical-align: middle;\n",
       "    }\n",
       "\n",
       "    .dataframe tbody tr th {\n",
       "        vertical-align: top;\n",
       "    }\n",
       "\n",
       "    .dataframe thead th {\n",
       "        text-align: right;\n",
       "    }\n",
       "</style>\n",
       "<table border=\"1\" class=\"dataframe\">\n",
       "  <thead>\n",
       "    <tr style=\"text-align: right;\">\n",
       "      <th></th>\n",
       "      <th>fit_time</th>\n",
       "      <th>score_time</th>\n",
       "      <th>test_neg_mean_squared_error</th>\n",
       "      <th>test_neg_mean_absolute_error</th>\n",
       "    </tr>\n",
       "  </thead>\n",
       "  <tbody>\n",
       "    <tr>\n",
       "      <th>0</th>\n",
       "      <td>0.006497</td>\n",
       "      <td>0.000994</td>\n",
       "      <td>-6.060671</td>\n",
       "      <td>-1.810212</td>\n",
       "    </tr>\n",
       "    <tr>\n",
       "      <th>1</th>\n",
       "      <td>0.001993</td>\n",
       "      <td>0.000000</td>\n",
       "      <td>-10.627031</td>\n",
       "      <td>-2.541958</td>\n",
       "    </tr>\n",
       "    <tr>\n",
       "      <th>2</th>\n",
       "      <td>0.001434</td>\n",
       "      <td>0.001003</td>\n",
       "      <td>-3.993426</td>\n",
       "      <td>-1.469594</td>\n",
       "    </tr>\n",
       "    <tr>\n",
       "      <th>3</th>\n",
       "      <td>0.000000</td>\n",
       "      <td>0.002256</td>\n",
       "      <td>-5.009494</td>\n",
       "      <td>-1.862769</td>\n",
       "    </tr>\n",
       "    <tr>\n",
       "      <th>4</th>\n",
       "      <td>0.000996</td>\n",
       "      <td>0.001344</td>\n",
       "      <td>-9.141800</td>\n",
       "      <td>-2.520697</td>\n",
       "    </tr>\n",
       "    <tr>\n",
       "      <th>5</th>\n",
       "      <td>0.001997</td>\n",
       "      <td>0.000000</td>\n",
       "      <td>-13.086256</td>\n",
       "      <td>-2.459995</td>\n",
       "    </tr>\n",
       "    <tr>\n",
       "      <th>6</th>\n",
       "      <td>0.000997</td>\n",
       "      <td>0.000000</td>\n",
       "      <td>-3.839405</td>\n",
       "      <td>-1.451971</td>\n",
       "    </tr>\n",
       "    <tr>\n",
       "      <th>7</th>\n",
       "      <td>0.001015</td>\n",
       "      <td>0.000998</td>\n",
       "      <td>-9.058786</td>\n",
       "      <td>-2.377395</td>\n",
       "    </tr>\n",
       "    <tr>\n",
       "      <th>8</th>\n",
       "      <td>0.002186</td>\n",
       "      <td>0.001993</td>\n",
       "      <td>-9.055457</td>\n",
       "      <td>-2.443344</td>\n",
       "    </tr>\n",
       "    <tr>\n",
       "      <th>9</th>\n",
       "      <td>0.000997</td>\n",
       "      <td>0.001302</td>\n",
       "      <td>-5.778882</td>\n",
       "      <td>-1.899797</td>\n",
       "    </tr>\n",
       "  </tbody>\n",
       "</table>\n",
       "</div>"
      ],
      "text/plain": [
       "   fit_time  score_time  test_neg_mean_squared_error  \\\n",
       "0  0.006497    0.000994                    -6.060671   \n",
       "1  0.001993    0.000000                   -10.627031   \n",
       "2  0.001434    0.001003                    -3.993426   \n",
       "3  0.000000    0.002256                    -5.009494   \n",
       "4  0.000996    0.001344                    -9.141800   \n",
       "5  0.001997    0.000000                   -13.086256   \n",
       "6  0.000997    0.000000                    -3.839405   \n",
       "7  0.001015    0.000998                    -9.058786   \n",
       "8  0.002186    0.001993                    -9.055457   \n",
       "9  0.000997    0.001302                    -5.778882   \n",
       "\n",
       "   test_neg_mean_absolute_error  \n",
       "0                     -1.810212  \n",
       "1                     -2.541958  \n",
       "2                     -1.469594  \n",
       "3                     -1.862769  \n",
       "4                     -2.520697  \n",
       "5                     -2.459995  \n",
       "6                     -1.451971  \n",
       "7                     -2.377395  \n",
       "8                     -2.443344  \n",
       "9                     -1.899797  "
      ]
     },
     "execution_count": 10,
     "metadata": {},
     "output_type": "execute_result"
    }
   ],
   "source": [
    "scores"
   ]
  },
  {
   "cell_type": "code",
   "execution_count": 11,
   "id": "a5504f8f",
   "metadata": {},
   "outputs": [
    {
     "data": {
      "text/plain": [
       "fit_time                        0.001811\n",
       "score_time                      0.000989\n",
       "test_neg_mean_squared_error    -7.565121\n",
       "test_neg_mean_absolute_error   -2.083773\n",
       "dtype: float64"
      ]
     },
     "execution_count": 11,
     "metadata": {},
     "output_type": "execute_result"
    }
   ],
   "source": [
    "scores.mean()"
   ]
  },
  {
   "cell_type": "code",
   "execution_count": 12,
   "id": "a6a89d82",
   "metadata": {},
   "outputs": [],
   "source": [
    "model = Ridge(alpha=1)"
   ]
  },
  {
   "cell_type": "code",
   "execution_count": 13,
   "id": "c0af861b",
   "metadata": {},
   "outputs": [],
   "source": [
    "scores = cross_validate(model, X_train, y_train, scoring=['neg_mean_squared_error', 'neg_mean_absolute_error'], cv=10)"
   ]
  },
  {
   "cell_type": "code",
   "execution_count": 14,
   "id": "c4ff614c",
   "metadata": {},
   "outputs": [],
   "source": [
    "scores = pd.DataFrame(scores)"
   ]
  },
  {
   "cell_type": "code",
   "execution_count": 15,
   "id": "fff2ed66",
   "metadata": {},
   "outputs": [
    {
     "data": {
      "text/plain": [
       "fit_time                        0.000924\n",
       "score_time                      0.000970\n",
       "test_neg_mean_squared_error    -3.323018\n",
       "test_neg_mean_absolute_error   -1.308467\n",
       "dtype: float64"
      ]
     },
     "execution_count": 15,
     "metadata": {},
     "output_type": "execute_result"
    }
   ],
   "source": [
    "scores.mean()"
   ]
  },
  {
   "cell_type": "code",
   "execution_count": 16,
   "id": "1c47ba98",
   "metadata": {},
   "outputs": [
    {
     "data": {
      "text/plain": [
       "Ridge(alpha=1)"
      ]
     },
     "execution_count": 16,
     "metadata": {},
     "output_type": "execute_result"
    }
   ],
   "source": [
    "model.fit(X_train, y_train)"
   ]
  },
  {
   "cell_type": "code",
   "execution_count": 17,
   "id": "d473ad86",
   "metadata": {},
   "outputs": [],
   "source": [
    "y_finel_pred = model.predict(X_test)"
   ]
  },
  {
   "cell_type": "code",
   "execution_count": 18,
   "id": "c0b66d8c",
   "metadata": {},
   "outputs": [
    {
     "data": {
      "text/plain": [
       "2.319021579428752"
      ]
     },
     "execution_count": 18,
     "metadata": {},
     "output_type": "execute_result"
    }
   ],
   "source": [
    "mean_squared_error(y_test, y_finel_pred)"
   ]
  },
  {
   "cell_type": "code",
   "execution_count": null,
   "id": "da7d22df",
   "metadata": {},
   "outputs": [],
   "source": []
  }
 ],
 "metadata": {
  "kernelspec": {
   "display_name": "Python 3 (ipykernel)",
   "language": "python",
   "name": "python3"
  },
  "language_info": {
   "codemirror_mode": {
    "name": "ipython",
    "version": 3
   },
   "file_extension": ".py",
   "mimetype": "text/x-python",
   "name": "python",
   "nbconvert_exporter": "python",
   "pygments_lexer": "ipython3",
   "version": "3.7.0"
  }
 },
 "nbformat": 4,
 "nbformat_minor": 5
}
